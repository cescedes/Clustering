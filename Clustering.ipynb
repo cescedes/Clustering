{
 "cells": [
  {
   "cell_type": "markdown",
   "source": [
    "# Task 3 - Clustering (28 points)\n",
    "\n",
    "**Task Definition:** In this task, you try different clustering algorithms and evaluate them using the *Normalized Mutual Information (NMI)* and the *(Adjusted) Rand Score*. For the evaluation you can use the sklearn.metrics package. Try 4 different clustering techniques on the 4 datasets. Plot the clustering results and colour the points belonging to the same cluster with the same colour.\n",
    "\n",
    "**Input:** The data folder cointaines the input files (`dataset1_noClusters2.csv`, `dataset2_noClusters2.csv`, `dataset3_noClusters2.csv`, `dataset4_noClusters7.csv`). In each dataset the data points have 2 features and 1 label, the number of clusters are in the name of the files. Don't forget to remove the labels when you apply clustering methods on the datasets. You need to cluster every data set with at least one clustering method.\n",
    "\n",
    "**Clustering methods:** Use a clustering method from each of the 4 categories. For the evaluation try to find the best clustering result possible to get with your chosen clustering method. Discuss your results and explain why each clustering method succeeded or failed to cluster the data.\n",
    "1. K-Means or K-Means++\n",
    "2. Hierarchical clustering (single, complete or average linkage)\n",
    "3. DBSCAN\n",
    "4. Expectation Maximization\n",
    "\n",
    "**Points:** In total you get 16 points for the implementation (clustering, plots, evaluation with numbers) and 12 points for the report (explanation, evaluation in text)."
   ],
   "metadata": {
    "collapsed": false
   }
  },
  {
   "cell_type": "code",
   "execution_count": null,
   "outputs": [],
   "source": [
    "# TODO: uncomment the packages you used, please do not import additional non-native packages\n",
    "# you may change the imports to the following format: from [package] import [class, method, etc.]\n",
    "\n",
    "# import matplotlib.pyplot as plt\n",
    "# import numpy as np\n",
    "# import pandas as pd\n",
    "# import sklearn\n",
    "# import scipy\n",
    "# import seaborn as sns"
   ],
   "metadata": {
    "collapsed": false
   }
  },
  {
   "cell_type": "code",
   "execution_count": null,
   "outputs": [],
   "source": [],
   "metadata": {
    "collapsed": false
   }
  }
 ],
 "metadata": {
  "kernelspec": {
   "display_name": "Python 3",
   "language": "python",
   "name": "python3"
  },
  "language_info": {
   "codemirror_mode": {
    "name": "ipython",
    "version": 2
   },
   "file_extension": ".py",
   "mimetype": "text/x-python",
   "name": "python",
   "nbconvert_exporter": "python",
   "pygments_lexer": "ipython2",
   "version": "2.7.6"
  }
 },
 "nbformat": 4,
 "nbformat_minor": 0
}
